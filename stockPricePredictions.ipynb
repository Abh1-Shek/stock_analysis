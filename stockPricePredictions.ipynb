{
  "nbformat": 4,
  "nbformat_minor": 0,
  "metadata": {
    "colab": {
      "name": "stockPricePredictions",
      "provenance": [],
      "collapsed_sections": [],
      "authorship_tag": "ABX9TyOD8gfr0klSMOxa06wMyAlO",
      "include_colab_link": true
    },
    "kernelspec": {
      "name": "python3",
      "display_name": "Python 3"
    },
    "language_info": {
      "name": "python"
    }
  },
  "cells": [
    {
      "cell_type": "markdown",
      "metadata": {
        "id": "view-in-github",
        "colab_type": "text"
      },
      "source": [
        "<a href=\"https://colab.research.google.com/github/Abh1-Shek/stock_analysis/blob/main/stockPricePredictions.ipynb\" target=\"_parent\"><img src=\"https://colab.research.google.com/assets/colab-badge.svg\" alt=\"Open In Colab\"/></a>"
      ]
    },
    {
      "cell_type": "code",
      "metadata": {
        "id": "yHbcFpbXEQ5a"
      },
      "source": [
        "import numpy as np\n",
        "import matplotlib.pyplot as plt\n",
        "import pandas as pd"
      ],
      "execution_count": null,
      "outputs": []
    },
    {
      "cell_type": "code",
      "metadata": {
        "id": "l8fH5KNcEeyr"
      },
      "source": [
        "import pandas_datareader as web\n",
        "import datetime as dt"
      ],
      "execution_count": null,
      "outputs": []
    },
    {
      "cell_type": "code",
      "metadata": {
        "id": "E8-AhmCuEkKW"
      },
      "source": [
        "from sklearn.preprocessing import MinMaxScaler"
      ],
      "execution_count": null,
      "outputs": []
    },
    {
      "cell_type": "code",
      "metadata": {
        "id": "xFZNDYVAEm3E"
      },
      "source": [
        "from tensorflow.keras.models import Sequential\n",
        "from tensorflow.keras.layers import Dense, Dropout, LSTM"
      ],
      "execution_count": null,
      "outputs": []
    },
    {
      "cell_type": "code",
      "metadata": {
        "id": "PiVZTPzBExEb"
      },
      "source": [
        "company = 'AAPL'"
      ],
      "execution_count": null,
      "outputs": []
    },
    {
      "cell_type": "code",
      "metadata": {
        "id": "gMonut2iE083"
      },
      "source": [
        "start = dt.datetime(2012, 1, 1)\n",
        "end = dt.datetime(2020, 1, 1)"
      ],
      "execution_count": null,
      "outputs": []
    },
    {
      "cell_type": "code",
      "metadata": {
        "colab": {
          "base_uri": "https://localhost:8080/"
        },
        "id": "JBldf_dbE8TE",
        "outputId": "692fcb37-b644-4126-e7e7-7e6b8fd1ccab"
      },
      "source": [
        "!pip3 install yfinance\n",
        "import yfinance as yahooFinance\n",
        " \n",
        " \n",
        "data = yahooFinance.Ticker(company)"
      ],
      "execution_count": null,
      "outputs": [
        {
          "output_type": "stream",
          "name": "stdout",
          "text": [
            "Requirement already satisfied: yfinance in /usr/local/lib/python3.7/dist-packages (0.1.66)\n",
            "Requirement already satisfied: numpy>=1.15 in /usr/local/lib/python3.7/dist-packages (from yfinance) (1.19.5)\n",
            "Requirement already satisfied: lxml>=4.5.1 in /usr/local/lib/python3.7/dist-packages (from yfinance) (4.6.4)\n",
            "Requirement already satisfied: requests>=2.20 in /usr/local/lib/python3.7/dist-packages (from yfinance) (2.23.0)\n",
            "Requirement already satisfied: multitasking>=0.0.7 in /usr/local/lib/python3.7/dist-packages (from yfinance) (0.0.10)\n",
            "Requirement already satisfied: pandas>=0.24 in /usr/local/lib/python3.7/dist-packages (from yfinance) (1.1.5)\n",
            "Requirement already satisfied: python-dateutil>=2.7.3 in /usr/local/lib/python3.7/dist-packages (from pandas>=0.24->yfinance) (2.8.2)\n",
            "Requirement already satisfied: pytz>=2017.2 in /usr/local/lib/python3.7/dist-packages (from pandas>=0.24->yfinance) (2018.9)\n",
            "Requirement already satisfied: six>=1.5 in /usr/local/lib/python3.7/dist-packages (from python-dateutil>=2.7.3->pandas>=0.24->yfinance) (1.15.0)\n",
            "Requirement already satisfied: urllib3!=1.25.0,!=1.25.1,<1.26,>=1.21.1 in /usr/local/lib/python3.7/dist-packages (from requests>=2.20->yfinance) (1.24.3)\n",
            "Requirement already satisfied: chardet<4,>=3.0.2 in /usr/local/lib/python3.7/dist-packages (from requests>=2.20->yfinance) (3.0.4)\n",
            "Requirement already satisfied: certifi>=2017.4.17 in /usr/local/lib/python3.7/dist-packages (from requests>=2.20->yfinance) (2021.10.8)\n",
            "Requirement already satisfied: idna<3,>=2.5 in /usr/local/lib/python3.7/dist-packages (from requests>=2.20->yfinance) (2.10)\n"
          ]
        }
      ]
    },
    {
      "cell_type": "code",
      "metadata": {
        "id": "ha6wSca8Ortn"
      },
      "source": [
        "cdata = yahooFinance.Ticker(company)"
      ],
      "execution_count": null,
      "outputs": []
    },
    {
      "cell_type": "code",
      "metadata": {
        "id": "-zFNdfecFCGQ"
      },
      "source": [
        "scaler = MinMaxScaler(feature_range=(0, 1))"
      ],
      "execution_count": null,
      "outputs": []
    },
    {
      "cell_type": "code",
      "metadata": {
        "id": "kZrFaU5AIDDf"
      },
      "source": [
        "data = data.history(start = start, end = end)"
      ],
      "execution_count": null,
      "outputs": []
    },
    {
      "cell_type": "code",
      "metadata": {
        "colab": {
          "base_uri": "https://localhost:8080/"
        },
        "id": "j1aD5thlIiPi",
        "outputId": "66aa44ea-3062-43d6-a087-92f732e3eba4"
      },
      "source": [
        "data['Close']"
      ],
      "execution_count": null,
      "outputs": [
        {
          "output_type": "execute_result",
          "data": {
            "text/plain": [
              "Date\n",
              "2012-01-03    12.591939\n",
              "2012-01-04    12.659609\n",
              "2012-01-05    12.800155\n",
              "2012-01-06    12.933967\n",
              "2012-01-09    12.913450\n",
              "                ...    \n",
              "2019-12-24    70.027313\n",
              "2019-12-26    71.416679\n",
              "2019-12-27    71.389565\n",
              "2019-12-30    71.813278\n",
              "2019-12-31    72.337990\n",
              "Name: Close, Length: 2012, dtype: float64"
            ]
          },
          "metadata": {},
          "execution_count": 159
        }
      ]
    },
    {
      "cell_type": "code",
      "metadata": {
        "id": "kAPzC08HJPH-"
      },
      "source": [
        "scaled_data = scaler.fit_transform(data['Close'].values.reshape(-1, 1)) #reshape for (n, ) to (n, 1)"
      ],
      "execution_count": null,
      "outputs": []
    },
    {
      "cell_type": "code",
      "metadata": {
        "colab": {
          "base_uri": "https://localhost:8080/"
        },
        "id": "XkWzZpUnJYZF",
        "outputId": "1c926498-614f-4672-8124-c50372b7c4b0"
      },
      "source": [
        "print (scaled_data[0: 2])\n",
        "print (scaled_data[0: 2, 0])"
      ],
      "execution_count": null,
      "outputs": [
        {
          "output_type": "stream",
          "name": "stdout",
          "text": [
            "[[0.00759649]\n",
            " [0.00872051]]\n",
            "[0.00759649 0.00872051]\n"
          ]
        }
      ]
    },
    {
      "cell_type": "code",
      "metadata": {
        "id": "Nbtm09TrJpgN"
      },
      "source": [
        "prediction_days = 60"
      ],
      "execution_count": null,
      "outputs": []
    },
    {
      "cell_type": "code",
      "metadata": {
        "id": "qFOO6ip6KXY3"
      },
      "source": [
        "x_train, y_train = [], []"
      ],
      "execution_count": null,
      "outputs": []
    },
    {
      "cell_type": "code",
      "metadata": {
        "id": "cnX8eACPKbH5"
      },
      "source": [
        "for x in range(prediction_days, len(scaled_data)):\n",
        "  x_train.append(scaled_data[x - prediction_days: x, 0])\n",
        "  y_train.append(scaled_data[x, 0])"
      ],
      "execution_count": null,
      "outputs": []
    },
    {
      "cell_type": "code",
      "metadata": {
        "id": "EqKDJJy7LKEV"
      },
      "source": [
        "x_train, y_train = np.array(x_train), np.array(y_train)"
      ],
      "execution_count": null,
      "outputs": []
    },
    {
      "cell_type": "code",
      "metadata": {
        "colab": {
          "base_uri": "https://localhost:8080/"
        },
        "id": "k44-DXepLPfs",
        "outputId": "435d01cb-0e21-4f45-a8b4-d33761503cbe"
      },
      "source": [
        "x_train"
      ],
      "execution_count": null,
      "outputs": [
        {
          "output_type": "execute_result",
          "data": {
            "text/plain": [
              "array([[0.00759649, 0.00872051, 0.01105503, ..., 0.10715733, 0.11097191,\n",
              "        0.11256901],\n",
              "       [0.00872051, 0.01105503, 0.01327769, ..., 0.11097191, 0.11256901,\n",
              "        0.1086221 ],\n",
              "       [0.01105503, 0.01327769, 0.01293691, ..., 0.11256901, 0.1086221 ,\n",
              "        0.10337842],\n",
              "       ...,\n",
              "       [0.69170089, 0.69928893, 0.72454144, ..., 0.96051402, 0.96161883,\n",
              "        0.9846967 ],\n",
              "       [0.69928893, 0.72454144, 0.72474528, ..., 0.96161883, 0.9846967 ,\n",
              "        0.98424631],\n",
              "       [0.72454144, 0.72474528, 0.71389371, ..., 0.9846967 , 0.98424631,\n",
              "        0.99128435]])"
            ]
          },
          "metadata": {},
          "execution_count": 166
        }
      ]
    },
    {
      "cell_type": "code",
      "metadata": {
        "id": "nZ62KqAKLR2g"
      },
      "source": [
        "x_train = np.reshape(x_train, (x_train.shape[0], x_train.shape[1], 1))"
      ],
      "execution_count": null,
      "outputs": []
    },
    {
      "cell_type": "code",
      "metadata": {
        "id": "Rymd-QZ3Lezg"
      },
      "source": [
        "model = Sequential()"
      ],
      "execution_count": null,
      "outputs": []
    },
    {
      "cell_type": "code",
      "metadata": {
        "colab": {
          "base_uri": "https://localhost:8080/"
        },
        "id": "-s2SZSuUMOId",
        "outputId": "f5b19ad7-c7c3-4988-cce5-e0d65659ca07"
      },
      "source": [
        "x_train.shape"
      ],
      "execution_count": null,
      "outputs": [
        {
          "output_type": "execute_result",
          "data": {
            "text/plain": [
              "(1952, 60, 1)"
            ]
          },
          "metadata": {},
          "execution_count": 169
        }
      ]
    },
    {
      "cell_type": "code",
      "metadata": {
        "id": "elnBqoE8LfV4"
      },
      "source": [
        "model.add(LSTM(units = 50, return_sequences=True, input_shape = (x_train.shape[1], 1)))\n",
        "model.add(Dropout(0.2))"
      ],
      "execution_count": null,
      "outputs": []
    },
    {
      "cell_type": "code",
      "metadata": {
        "id": "4dQVRzQPMH1K"
      },
      "source": [
        "model.add(LSTM(units = 50, return_sequences=True))\n",
        "model.add(Dropout(0.2))"
      ],
      "execution_count": null,
      "outputs": []
    },
    {
      "cell_type": "code",
      "metadata": {
        "id": "P8kWyB4PMwcP"
      },
      "source": [
        "model.add(LSTM(units = 50))\n",
        "model.add(Dropout(0.2))"
      ],
      "execution_count": null,
      "outputs": []
    },
    {
      "cell_type": "code",
      "metadata": {
        "id": "OFZob6qcM17Z"
      },
      "source": [
        "model.add(Dense(units = 1))  #our predictions"
      ],
      "execution_count": null,
      "outputs": []
    },
    {
      "cell_type": "code",
      "metadata": {
        "id": "TNfoRLx_M_IY"
      },
      "source": [
        "model.compile(optimizer = 'adam', loss = 'mean_squared_error')"
      ],
      "execution_count": null,
      "outputs": []
    },
    {
      "cell_type": "code",
      "metadata": {
        "colab": {
          "base_uri": "https://localhost:8080/"
        },
        "id": "b5j_0nSVNMrF",
        "outputId": "081f4f5a-73ee-4d45-fa22-97771173729b"
      },
      "source": [
        "model.fit(x_train, y_train, epochs = 25, batch_size = 32)"
      ],
      "execution_count": null,
      "outputs": [
        {
          "output_type": "stream",
          "name": "stdout",
          "text": [
            "Epoch 1/25\n",
            "61/61 [==============================] - 10s 76ms/step - loss: 0.0102\n",
            "Epoch 2/25\n",
            "61/61 [==============================] - 5s 77ms/step - loss: 0.0022\n",
            "Epoch 3/25\n",
            "61/61 [==============================] - 5s 77ms/step - loss: 0.0020\n",
            "Epoch 4/25\n",
            "61/61 [==============================] - 5s 78ms/step - loss: 0.0019\n",
            "Epoch 5/25\n",
            "61/61 [==============================] - 5s 79ms/step - loss: 0.0016\n",
            "Epoch 6/25\n",
            "61/61 [==============================] - 5s 79ms/step - loss: 0.0016\n",
            "Epoch 7/25\n",
            "61/61 [==============================] - 5s 80ms/step - loss: 0.0015\n",
            "Epoch 8/25\n",
            "61/61 [==============================] - 5s 79ms/step - loss: 0.0014\n",
            "Epoch 9/25\n",
            "61/61 [==============================] - 5s 79ms/step - loss: 0.0016\n",
            "Epoch 10/25\n",
            "61/61 [==============================] - 5s 77ms/step - loss: 0.0013\n",
            "Epoch 11/25\n",
            "61/61 [==============================] - 5s 77ms/step - loss: 0.0013\n",
            "Epoch 12/25\n",
            "61/61 [==============================] - 5s 79ms/step - loss: 0.0013\n",
            "Epoch 13/25\n",
            "61/61 [==============================] - 5s 78ms/step - loss: 0.0012\n",
            "Epoch 14/25\n",
            "61/61 [==============================] - 5s 78ms/step - loss: 0.0011\n",
            "Epoch 15/25\n",
            "61/61 [==============================] - 5s 79ms/step - loss: 0.0013\n",
            "Epoch 16/25\n",
            "61/61 [==============================] - 5s 78ms/step - loss: 0.0012\n",
            "Epoch 17/25\n",
            "61/61 [==============================] - 5s 76ms/step - loss: 0.0011\n",
            "Epoch 18/25\n",
            "61/61 [==============================] - 5s 76ms/step - loss: 0.0013\n",
            "Epoch 19/25\n",
            "61/61 [==============================] - 5s 77ms/step - loss: 0.0011\n",
            "Epoch 20/25\n",
            "61/61 [==============================] - 5s 77ms/step - loss: 0.0010\n",
            "Epoch 21/25\n",
            "61/61 [==============================] - 5s 78ms/step - loss: 9.8771e-04\n",
            "Epoch 22/25\n",
            "61/61 [==============================] - 5s 76ms/step - loss: 8.9036e-04\n",
            "Epoch 23/25\n",
            "61/61 [==============================] - 5s 77ms/step - loss: 9.7018e-04\n",
            "Epoch 24/25\n",
            "61/61 [==============================] - 5s 77ms/step - loss: 9.3846e-04\n",
            "Epoch 25/25\n",
            "61/61 [==============================] - 5s 77ms/step - loss: 8.8895e-04\n"
          ]
        },
        {
          "output_type": "execute_result",
          "data": {
            "text/plain": [
              "<keras.callbacks.History at 0x7f25982a75d0>"
            ]
          },
          "metadata": {},
          "execution_count": 175
        }
      ]
    },
    {
      "cell_type": "code",
      "metadata": {
        "id": "5ao4ZHFONTC1"
      },
      "source": [
        "#let's do testing"
      ],
      "execution_count": null,
      "outputs": []
    },
    {
      "cell_type": "code",
      "metadata": {
        "id": "IkXTrzmmOUyp"
      },
      "source": [
        "test_start = dt.datetime(2021, 1, 1)\n",
        "test_end = dt.datetime.now()"
      ],
      "execution_count": null,
      "outputs": []
    },
    {
      "cell_type": "code",
      "metadata": {
        "id": "-5n4bMqXOk7K"
      },
      "source": [
        "test_data = cdata.history(start = test_start, end = test_end)"
      ],
      "execution_count": null,
      "outputs": []
    },
    {
      "cell_type": "code",
      "metadata": {
        "id": "43gvAjBHO3d-"
      },
      "source": [
        "acutal_prices = test_data['Close'].values"
      ],
      "execution_count": null,
      "outputs": []
    },
    {
      "cell_type": "code",
      "metadata": {
        "colab": {
          "base_uri": "https://localhost:8080/"
        },
        "id": "-Ef8We-SPh--",
        "outputId": "9fe04f67-63a5-47fa-acf3-2176ac1dd776"
      },
      "source": [
        "acutal_prices"
      ],
      "execution_count": null,
      "outputs": [
        {
          "output_type": "execute_result",
          "data": {
            "text/plain": [
              "array([128.61709595, 130.20730591, 125.82431793, 130.11784363,\n",
              "       131.24092102, 128.18972778, 128.010849  , 130.08802795,\n",
              "       128.12017822, 126.36101532, 127.04678345, 131.22103882,\n",
              "       136.03138733, 138.21792603, 142.04431152, 142.28286743,\n",
              "       141.18959045, 136.25004578, 131.15148926, 133.31813049,\n",
              "       134.16290283, 133.11933899, 136.54821777, 136.12516785,\n",
              "       136.2744751 , 135.37866211, 134.76153564, 134.50274658,\n",
              "       134.74162292, 132.57174683, 130.23266602, 129.10791016,\n",
              "       129.26715088, 125.41512299, 125.27577972, 124.76813507,\n",
              "       120.42837524, 120.6971283 , 127.19681549, 124.53920746,\n",
              "       121.49341583, 119.57237244, 120.85638428, 115.81987   ,\n",
              "       120.52791595, 119.42307281, 121.39387512, 120.46819305,\n",
              "       123.41445923, 124.98711395, 124.18088531, 119.97051239,\n",
              "       119.43302155, 122.81724548, 121.97119141, 119.53255463,\n",
              "       120.03022766, 120.64736176, 120.82653046, 119.34344482,\n",
              "       121.58299255, 122.42905426, 125.3155899 , 125.62415314,\n",
              "       127.30630493, 129.75489807, 132.38261414, 130.6308136 ,\n",
              "       133.8059845 , 131.41712952, 133.87565613, 133.53726196,\n",
              "       134.21409607, 132.49212646, 132.88031006, 131.32756042,\n",
              "       133.69650269, 134.09465027, 133.76617432, 132.95994568,\n",
              "       132.86039734, 130.84979248, 131.92474365, 127.25653839,\n",
              "       127.50538635, 129.13777161, 129.82572937, 126.47564697,\n",
              "       125.53842163, 122.40768433, 124.60119629, 127.0738678 ,\n",
              "       125.8973465 , 124.48154449, 124.32202148, 126.93428802,\n",
              "       125.05983734, 126.72490692, 126.52549744, 126.47564697,\n",
              "       124.91027832, 124.24225616, 123.9132309 , 124.6909256 ,\n",
              "       123.17541504, 125.51847839, 125.52845001, 126.3659668 ,\n",
              "       126.75481415, 125.73783112, 126.97416687, 130.09492493,\n",
              "       129.25740051, 129.76589966, 131.40106201, 130.07499695,\n",
              "       131.90956116, 133.58459473, 133.30543518, 133.01628113,\n",
              "       132.71717834, 134.38223267, 135.92765808, 136.55581665,\n",
              "       136.86489868, 139.54696655, 141.60087585, 144.14335632,\n",
              "       142.817276  , 144.6817627 , 144.07354736, 145.21018982,\n",
              "       148.70982361, 148.04180908, 145.95797729, 142.02960205,\n",
              "       145.71868896, 144.97088623, 146.36676025, 148.12156677,\n",
              "       148.55030823, 146.33685303, 144.55212402, 145.21018982,\n",
              "       145.42953491, 145.09056091, 146.92510986, 146.5163269 ,\n",
              "       146.62600708, 145.92701721, 145.87709045, 145.38781738,\n",
              "       145.64743042, 148.67301941, 148.88272095, 150.89976501,\n",
              "       149.97113037, 146.146698  , 146.48620605, 147.9740448 ,\n",
              "       149.49183655, 149.40194702, 148.14378357, 147.32498169,\n",
              "       148.38345337, 152.89685059, 151.60873413, 152.28773499,\n",
              "       153.42607117, 154.07513428, 156.46165466, 154.88395691,\n",
              "       153.84547424, 148.75289917, 149.33206177, 147.90412903,\n",
              "       148.81280518, 148.57315063, 145.84713745, 142.73168945,\n",
              "       143.22096252, 145.63745117, 146.61602783, 146.70588684,\n",
              "       145.15814209, 141.70318604, 142.62185669, 141.29379272,\n",
              "       142.44210815, 138.93722534, 140.90435791, 141.7930603 ,\n",
              "       143.08117676, 142.69174194, 142.60188293, 141.30377197,\n",
              "       140.70465088, 143.55049133, 144.62892151, 146.33642578,\n",
              "       148.54319763, 149.04248047, 149.262146  , 148.47331238,\n",
              "       148.42338562, 149.10240173, 148.63308716, 152.34765625,\n",
              "       149.58169556, 148.74291992, 149.80137634, 151.26924133,\n",
              "       150.74000549, 151.27999878, 150.44000244, 150.80999756,\n",
              "       147.91999817, 147.86999512, 149.99000549, 150.        ,\n",
              "       151.        , 153.49000549, 157.86999512, 160.55000305])"
            ]
          },
          "metadata": {},
          "execution_count": 180
        }
      ]
    },
    {
      "cell_type": "code",
      "metadata": {
        "colab": {
          "base_uri": "https://localhost:8080/"
        },
        "id": "A6x8BvtCPiyL",
        "outputId": "529b53b9-aae0-411a-92f6-9c9ee9ffca46"
      },
      "source": [
        "total_dataset = pd.concat((data['Close'], test_data['Close']), axis = 0)\n",
        "total_dataset"
      ],
      "execution_count": null,
      "outputs": [
        {
          "output_type": "execute_result",
          "data": {
            "text/plain": [
              "Date\n",
              "2012-01-03     12.591939\n",
              "2012-01-04     12.659609\n",
              "2012-01-05     12.800155\n",
              "2012-01-06     12.933967\n",
              "2012-01-09     12.913450\n",
              "                 ...    \n",
              "2021-11-15    150.000000\n",
              "2021-11-16    151.000000\n",
              "2021-11-17    153.490005\n",
              "2021-11-18    157.869995\n",
              "2021-11-19    160.550003\n",
              "Name: Close, Length: 2236, dtype: float64"
            ]
          },
          "metadata": {},
          "execution_count": 181
        }
      ]
    },
    {
      "cell_type": "code",
      "metadata": {
        "id": "SAfEp2A9PoYL"
      },
      "source": [
        "model_inputs = total_dataset[len(total_dataset) - len(test_data) - prediction_days:].values.reshape(-1, 1)"
      ],
      "execution_count": null,
      "outputs": []
    },
    {
      "cell_type": "code",
      "metadata": {
        "id": "-yxwgft9QDZt"
      },
      "source": [
        "model_inputs = scaler.transform(model_inputs)"
      ],
      "execution_count": null,
      "outputs": []
    },
    {
      "cell_type": "code",
      "metadata": {
        "id": "jjrVDSExQK_p"
      },
      "source": [
        "#make prediction on test data\n",
        "x_test = []\n",
        "for x in range(prediction_days, len(model_inputs)):\n",
        "  x_test.append(model_inputs[x-prediction_days: x, 0])\n",
        "\n",
        "x_test = np.array(x_test)\n",
        "x_test = np.reshape(x_test, (x_test.shape[0], x_test.shape[1], 1))"
      ],
      "execution_count": null,
      "outputs": []
    },
    {
      "cell_type": "code",
      "metadata": {
        "id": "9b1medp3RYou"
      },
      "source": [
        "predicted_prices = model.predict(x_test)\n",
        "predicted_prices = scaler.inverse_transform(predicted_prices).reshape(-1, )"
      ],
      "execution_count": null,
      "outputs": []
    },
    {
      "cell_type": "code",
      "metadata": {
        "colab": {
          "base_uri": "https://localhost:8080/",
          "height": 312
        },
        "id": "U6uaiq9KRll8",
        "outputId": "7be401a1-b4de-4bcf-f8f0-058ecd7db0b2"
      },
      "source": [
        "plt.plot(acutal_prices, color = 'black', label = \"Actual Price\")\n",
        "plt.plot(predicted_prices, color = 'green', label = \"Predicted Price\")\n",
        "plt.title(\"Share Prices\")\n",
        "plt.xlabel('Time')\n",
        "plt.ylabel('Price')\n",
        "plt.legend()"
      ],
      "execution_count": null,
      "outputs": [
        {
          "output_type": "execute_result",
          "data": {
            "text/plain": [
              "<matplotlib.legend.Legend at 0x7f2592ca9490>"
            ]
          },
          "metadata": {},
          "execution_count": 186
        },
        {
          "output_type": "display_data",
          "data": {
            "image/png": "[encoded data removed]",
            "text/plain": [
              "<Figure size 432x288 with 1 Axes>"
            ]
          },
          "metadata": {
            "needs_background": "light"
          }
        }
      ]
    },
    {
      "cell_type": "code",
      "metadata": {
        "id": "djEWgwXNR3Lf"
      },
      "source": [
        ""
      ],
      "execution_count": null,
      "outputs": []
    }
  ]
}