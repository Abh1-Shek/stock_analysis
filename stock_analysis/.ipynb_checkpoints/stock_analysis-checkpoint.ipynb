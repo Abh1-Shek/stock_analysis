{
 "cells": [
  {
   "cell_type": "code",
   "execution_count": 1,
   "id": "9fe5429f",
   "metadata": {},
   "outputs": [],
   "source": [
    "import pandas as pd\n",
    "from pandas import Series, DataFrame\n",
    "import numpy as np"
   ]
  },
  {
   "cell_type": "code",
   "execution_count": 2,
   "id": "0b3a4cdb",
   "metadata": {},
   "outputs": [],
   "source": [
    "import matplotlib.pyplot as plt\n",
    "import seaborn as sns\n",
    "sns.set_style('whitegrid')\n",
    "%matplotlib inline"
   ]
  },
  {
   "cell_type": "code",
   "execution_count": 4,
   "id": "7efc7e7a",
   "metadata": {},
   "outputs": [],
   "source": [
    "from pandas_datareader.data import DataReader"
   ]
  },
  {
   "cell_type": "code",
   "execution_count": 5,
   "id": "9de0079c",
   "metadata": {},
   "outputs": [],
   "source": [
    "from datetime import datetime"
   ]
  },
  {
   "cell_type": "code",
   "execution_count": 6,
   "id": "71a3e1d6",
   "metadata": {},
   "outputs": [],
   "source": [
    "from __future__ import division"
   ]
  },
  {
   "cell_type": "code",
   "execution_count": 7,
   "id": "7dacca0f",
   "metadata": {},
   "outputs": [],
   "source": [
    "tech_list = ['AAPL', 'GOOG', 'MSFT', 'AMZN']"
   ]
  },
  {
   "cell_type": "code",
   "execution_count": 10,
   "id": "d0fe63a3",
   "metadata": {},
   "outputs": [],
   "source": [
    "end = datetime.now()\n",
    "start = datetime(end.year - 1, end.month, end.day)"
   ]
  },
  {
   "cell_type": "code",
   "execution_count": 12,
   "id": "b0352ef8",
   "metadata": {},
   "outputs": [],
   "source": [
    "for stock in tech_list:\n",
    "    globals()[stock] = DataReader(stock, 'yahoo', start, end)\n",
    "#globals()[stock] is same as\n",
    "#stock = "
   ]
  },
  {
   "cell_type": "code",
   "execution_count": 13,
   "id": "d1c2b5b8",
   "metadata": {},
   "outputs": [
    {
     "data": {
      "text/html": [
       "<div>\n",
       "<style scoped>\n",
       "    .dataframe tbody tr th:only-of-type {\n",
       "        vertical-align: middle;\n",
       "    }\n",
       "\n",
       "    .dataframe tbody tr th {\n",
       "        vertical-align: top;\n",
       "    }\n",
       "\n",
       "    .dataframe thead th {\n",
       "        text-align: right;\n",
       "    }\n",
       "</style>\n",
       "<table border=\"1\" class=\"dataframe\">\n",
       "  <thead>\n",
       "    <tr style=\"text-align: right;\">\n",
       "      <th></th>\n",
       "      <th>High</th>\n",
       "      <th>Low</th>\n",
       "      <th>Open</th>\n",
       "      <th>Close</th>\n",
       "      <th>Volume</th>\n",
       "      <th>Adj Close</th>\n",
       "    </tr>\n",
       "    <tr>\n",
       "      <th>Date</th>\n",
       "      <th></th>\n",
       "      <th></th>\n",
       "      <th></th>\n",
       "      <th></th>\n",
       "      <th></th>\n",
       "      <th></th>\n",
       "    </tr>\n",
       "  </thead>\n",
       "  <tbody>\n",
       "    <tr>\n",
       "      <th>2020-07-15</th>\n",
       "      <td>99.247498</td>\n",
       "      <td>96.489998</td>\n",
       "      <td>98.989998</td>\n",
       "      <td>97.724998</td>\n",
       "      <td>153198000.0</td>\n",
       "      <td>97.070930</td>\n",
       "    </tr>\n",
       "    <tr>\n",
       "      <th>2020-07-16</th>\n",
       "      <td>97.404999</td>\n",
       "      <td>95.904999</td>\n",
       "      <td>96.562500</td>\n",
       "      <td>96.522499</td>\n",
       "      <td>110577600.0</td>\n",
       "      <td>95.876472</td>\n",
       "    </tr>\n",
       "    <tr>\n",
       "      <th>2020-07-17</th>\n",
       "      <td>97.147499</td>\n",
       "      <td>95.839996</td>\n",
       "      <td>96.987503</td>\n",
       "      <td>96.327499</td>\n",
       "      <td>92186800.0</td>\n",
       "      <td>95.682777</td>\n",
       "    </tr>\n",
       "    <tr>\n",
       "      <th>2020-07-20</th>\n",
       "      <td>98.500000</td>\n",
       "      <td>96.062500</td>\n",
       "      <td>96.417503</td>\n",
       "      <td>98.357498</td>\n",
       "      <td>90318000.0</td>\n",
       "      <td>97.699188</td>\n",
       "    </tr>\n",
       "    <tr>\n",
       "      <th>2020-07-21</th>\n",
       "      <td>99.250000</td>\n",
       "      <td>96.742500</td>\n",
       "      <td>99.172501</td>\n",
       "      <td>97.000000</td>\n",
       "      <td>103433200.0</td>\n",
       "      <td>96.350784</td>\n",
       "    </tr>\n",
       "  </tbody>\n",
       "</table>\n",
       "</div>"
      ],
      "text/plain": [
       "                 High        Low       Open      Close       Volume  Adj Close\n",
       "Date                                                                          \n",
       "2020-07-15  99.247498  96.489998  98.989998  97.724998  153198000.0  97.070930\n",
       "2020-07-16  97.404999  95.904999  96.562500  96.522499  110577600.0  95.876472\n",
       "2020-07-17  97.147499  95.839996  96.987503  96.327499   92186800.0  95.682777\n",
       "2020-07-20  98.500000  96.062500  96.417503  98.357498   90318000.0  97.699188\n",
       "2020-07-21  99.250000  96.742500  99.172501  97.000000  103433200.0  96.350784"
      ]
     },
     "execution_count": 13,
     "metadata": {},
     "output_type": "execute_result"
    }
   ],
   "source": [
    "AAPL.head()"
   ]
  },
  {
   "cell_type": "code",
   "execution_count": 14,
   "id": "7266d7f3",
   "metadata": {},
   "outputs": [
    {
     "data": {
      "text/html": [
       "<div>\n",
       "<style scoped>\n",
       "    .dataframe tbody tr th:only-of-type {\n",
       "        vertical-align: middle;\n",
       "    }\n",
       "\n",
       "    .dataframe tbody tr th {\n",
       "        vertical-align: top;\n",
       "    }\n",
       "\n",
       "    .dataframe thead th {\n",
       "        text-align: right;\n",
       "    }\n",
       "</style>\n",
       "<table border=\"1\" class=\"dataframe\">\n",
       "  <thead>\n",
       "    <tr style=\"text-align: right;\">\n",
       "      <th></th>\n",
       "      <th>High</th>\n",
       "      <th>Low</th>\n",
       "      <th>Open</th>\n",
       "      <th>Close</th>\n",
       "      <th>Volume</th>\n",
       "      <th>Adj Close</th>\n",
       "    </tr>\n",
       "  </thead>\n",
       "  <tbody>\n",
       "    <tr>\n",
       "      <th>count</th>\n",
       "      <td>253.000000</td>\n",
       "      <td>253.000000</td>\n",
       "      <td>253.000000</td>\n",
       "      <td>253.000000</td>\n",
       "      <td>2.530000e+02</td>\n",
       "      <td>253.000000</td>\n",
       "    </tr>\n",
       "    <tr>\n",
       "      <th>mean</th>\n",
       "      <td>125.069279</td>\n",
       "      <td>121.994466</td>\n",
       "      <td>123.617609</td>\n",
       "      <td>123.580089</td>\n",
       "      <td>1.188044e+08</td>\n",
       "      <td>123.239266</td>\n",
       "    </tr>\n",
       "    <tr>\n",
       "      <th>std</th>\n",
       "      <td>10.610154</td>\n",
       "      <td>10.690571</td>\n",
       "      <td>10.674312</td>\n",
       "      <td>10.678790</td>\n",
       "      <td>5.310427e+07</td>\n",
       "      <td>10.812989</td>\n",
       "    </tr>\n",
       "    <tr>\n",
       "      <th>min</th>\n",
       "      <td>92.970001</td>\n",
       "      <td>89.144997</td>\n",
       "      <td>90.987503</td>\n",
       "      <td>92.614998</td>\n",
       "      <td>4.669130e+07</td>\n",
       "      <td>91.995125</td>\n",
       "    </tr>\n",
       "    <tr>\n",
       "      <th>25%</th>\n",
       "      <td>118.769997</td>\n",
       "      <td>115.610001</td>\n",
       "      <td>117.180000</td>\n",
       "      <td>116.589996</td>\n",
       "      <td>8.347720e+07</td>\n",
       "      <td>116.162689</td>\n",
       "    </tr>\n",
       "    <tr>\n",
       "      <th>50%</th>\n",
       "      <td>125.860001</td>\n",
       "      <td>122.860001</td>\n",
       "      <td>124.529999</td>\n",
       "      <td>124.760002</td>\n",
       "      <td>1.039164e+08</td>\n",
       "      <td>124.397202</td>\n",
       "    </tr>\n",
       "    <tr>\n",
       "      <th>75%</th>\n",
       "      <td>132.490005</td>\n",
       "      <td>129.470001</td>\n",
       "      <td>131.190002</td>\n",
       "      <td>131.240005</td>\n",
       "      <td>1.433019e+08</td>\n",
       "      <td>130.755875</td>\n",
       "    </tr>\n",
       "    <tr>\n",
       "      <th>max</th>\n",
       "      <td>150.000000</td>\n",
       "      <td>147.679993</td>\n",
       "      <td>149.240005</td>\n",
       "      <td>149.149994</td>\n",
       "      <td>3.743368e+08</td>\n",
       "      <td>149.149994</td>\n",
       "    </tr>\n",
       "  </tbody>\n",
       "</table>\n",
       "</div>"
      ],
      "text/plain": [
       "             High         Low        Open       Close        Volume  \\\n",
       "count  253.000000  253.000000  253.000000  253.000000  2.530000e+02   \n",
       "mean   125.069279  121.994466  123.617609  123.580089  1.188044e+08   \n",
       "std     10.610154   10.690571   10.674312   10.678790  5.310427e+07   \n",
       "min     92.970001   89.144997   90.987503   92.614998  4.669130e+07   \n",
       "25%    118.769997  115.610001  117.180000  116.589996  8.347720e+07   \n",
       "50%    125.860001  122.860001  124.529999  124.760002  1.039164e+08   \n",
       "75%    132.490005  129.470001  131.190002  131.240005  1.433019e+08   \n",
       "max    150.000000  147.679993  149.240005  149.149994  3.743368e+08   \n",
       "\n",
       "        Adj Close  \n",
       "count  253.000000  \n",
       "mean   123.239266  \n",
       "std     10.812989  \n",
       "min     91.995125  \n",
       "25%    116.162689  \n",
       "50%    124.397202  \n",
       "75%    130.755875  \n",
       "max    149.149994  "
      ]
     },
     "execution_count": 14,
     "metadata": {},
     "output_type": "execute_result"
    }
   ],
   "source": [
    "AAPL.describe()"
   ]
  },
  {
   "cell_type": "code",
   "execution_count": 15,
   "id": "de3acc39",
   "metadata": {},
   "outputs": [
    {
     "name": "stdout",
     "output_type": "stream",
     "text": [
      "<class 'pandas.core.frame.DataFrame'>\n",
      "DatetimeIndex: 253 entries, 2020-07-15 to 2021-07-15\n",
      "Data columns (total 6 columns):\n",
      " #   Column     Non-Null Count  Dtype  \n",
      "---  ------     --------------  -----  \n",
      " 0   High       253 non-null    float64\n",
      " 1   Low        253 non-null    float64\n",
      " 2   Open       253 non-null    float64\n",
      " 3   Close      253 non-null    float64\n",
      " 4   Volume     253 non-null    float64\n",
      " 5   Adj Close  253 non-null    float64\n",
      "dtypes: float64(6)\n",
      "memory usage: 13.8 KB\n"
     ]
    }
   ],
   "source": [
    "AAPL.info()"
   ]
  },
  {
   "cell_type": "code",
   "execution_count": 16,
   "id": "08e10792",
   "metadata": {},
   "outputs": [
    {
     "data": {
      "text/plain": [
       "<AxesSubplot:xlabel='Date'>"
      ]
     },
     "execution_count": 16,
     "metadata": {},
     "output_type": "execute_result"
    },
    {
     "data": {
      "image/png": "[encoded data removed]",
      "text/plain": [
       "<Figure size 720x288 with 1 Axes>"
      ]
     },
     "metadata": {
      "needs_background": "light"
     },
     "output_type": "display_data"
    }
   ],
   "source": [
    "AAPL['Adj Close'].plot(legend = True, figsize = (10, 4))"
   ]
  },
  {
   "cell_type": "code",
   "execution_count": null,
   "id": "f2caca20",
   "metadata": {},
   "outputs": [],
   "source": []
  }
 ],
 "metadata": {
  "kernelspec": {
   "display_name": "Python 3 (ipykernel)",
   "language": "python",
   "name": "python3"
  },
  "language_info": {
   "codemirror_mode": {
    "name": "ipython",
    "version": 3
   },
   "file_extension": ".py",
   "mimetype": "text/x-python",
   "name": "python",
   "nbconvert_exporter": "python",
   "pygments_lexer": "ipython3",
   "version": "3.8.8"
  }
 },
 "nbformat": 4,
 "nbformat_minor": 5
}
